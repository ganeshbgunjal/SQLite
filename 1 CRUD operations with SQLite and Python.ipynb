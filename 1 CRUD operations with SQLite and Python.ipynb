{
 "cells": [
  {
   "cell_type": "markdown",
   "id": "80c0bd80-8383-44aa-9ec6-764004c9fa40",
   "metadata": {},
   "source": [
    "### SQL and SQLite:--"
   ]
  },
  {
   "cell_type": "markdown",
   "id": "65311e5c-8de5-4636-bb0e-7b27781992f4",
   "metadata": {},
   "source": [
    "**SQL** is standad query language for managing and manipulating relational databases. **SQLite** is a self contained, serverless, and zero configuration database engine that is widely used for embedded database systems."
   ]
  },
  {
   "cell_type": "markdown",
   "id": "2075001f-d2e9-4f1c-ac66-d97ad7fde5eb",
   "metadata": {},
   "source": [
    "An Embedded database system is a database that is built directly into an application (software or device). Unlike traditional databases that run separately on a server, an embedded database is tightly integrated with the application itself.  \n"
   ]
  },
  {
   "cell_type": "markdown",
   "id": "15696367-9e23-49d7-bbbd-0984388b1d43",
   "metadata": {},
   "source": [
    "**Characteristics:-**\n",
    "\n",
    "1. Small size – requires less memory and storage.\n",
    "\n",
    "2. High speed – because the application communicates directly with the database.\n",
    "\n",
    "3. Self-contained – no need for a separate database server.\n",
    "\n",
    "4. Easy to use – installing the application automatically includes the database."
   ]
  },
  {
   "cell_type": "markdown",
   "id": "875467f6-7b94-480d-9161-58dbfc0809f0",
   "metadata": {},
   "source": [
    "**An embedded database is a built-in database inside an application**"
   ]
  },
  {
   "cell_type": "code",
   "execution_count": 2,
   "id": "bd608557-2272-47a3-8eee-0b7a1ca976a2",
   "metadata": {},
   "outputs": [],
   "source": [
    "import sqlite3"
   ]
  },
  {
   "cell_type": "markdown",
   "id": "d9df4187-00b5-4e8a-b553-573ef5fe6ba6",
   "metadata": {},
   "source": [
    "#### Connect to SQLite db"
   ]
  },
  {
   "cell_type": "code",
   "execution_count": 3,
   "id": "7a33f0a2-8924-4c3a-9969-56369050c496",
   "metadata": {},
   "outputs": [],
   "source": [
    "connection = sqlite3.connect('example.db')"
   ]
  },
  {
   "cell_type": "code",
   "execution_count": 5,
   "id": "ba87bea0-79dc-4e27-b30d-d228fbb25614",
   "metadata": {},
   "outputs": [
    {
     "data": {
      "text/plain": [
       "<sqlite3.Connection at 0x274b912c6d0>"
      ]
     },
     "execution_count": 5,
     "metadata": {},
     "output_type": "execute_result"
    }
   ],
   "source": [
    "connection     #db is created."
   ]
  },
  {
   "cell_type": "markdown",
   "id": "de82be80-2b1f-4bc0-9c85-0b0059b5b3fa",
   "metadata": {},
   "source": [
    "Then we need to create cursor object, that will iterate thr all the database files.`"
   ]
  },
  {
   "cell_type": "code",
   "execution_count": 6,
   "id": "b11520c4-4ba7-4fc1-aeb1-4952c170c43d",
   "metadata": {},
   "outputs": [],
   "source": [
    "cursor = connection.cursor()"
   ]
  },
  {
   "cell_type": "markdown",
   "id": "47af3d2e-45ed-4882-b40a-2f8dcab137a0",
   "metadata": {},
   "source": [
    "#### Create a Table:--"
   ]
  },
  {
   "cell_type": "code",
   "execution_count": 8,
   "id": "91f05392-134c-4e29-abb6-cf1eed312f9f",
   "metadata": {},
   "outputs": [],
   "source": [
    "cursor.execute('''\n",
    "    create table if not exists employee(\n",
    "        id integer primary key,\n",
    "        name text not null,\n",
    "        surname text not null,\n",
    "        age integer,\n",
    "        department text\n",
    "    )\n",
    "''')\n",
    "\n",
    "# Commit the changes. without this commiting will not happen.\n",
    "connection.commit()"
   ]
  },
  {
   "cell_type": "code",
   "execution_count": 10,
   "id": "cd79b559-e15d-4c71-b3e3-397064c00d02",
   "metadata": {},
   "outputs": [
    {
     "data": {
      "text/plain": [
       "<sqlite3.Cursor at 0x274ba685540>"
      ]
     },
     "execution_count": 10,
     "metadata": {},
     "output_type": "execute_result"
    }
   ],
   "source": [
    "connection.execute('''\n",
    "    select * from employee\n",
    "''')     #this means table is created"
   ]
  },
  {
   "cell_type": "code",
   "execution_count": 13,
   "id": "b65898c6-15e3-4290-b980-ab19588be4b0",
   "metadata": {},
   "outputs": [],
   "source": [
    "connection.execute('''\n",
    "    insert into employee(name,surname,age,department)\n",
    "    values('Ganesh','Gunjal',33,'Data Science'),\n",
    "            ('Rasika','Rajguru',38,'Govt'),\n",
    "            ('Sushma','Patil',31,'HR')\n",
    "''')\n",
    "\n",
    "connection.commit()"
   ]
  },
  {
   "cell_type": "code",
   "execution_count": 15,
   "id": "5b64dd10-787d-4f42-b25f-3039d853c064",
   "metadata": {},
   "outputs": [
    {
     "name": "stdout",
     "output_type": "stream",
     "text": [
      "(1, 'Ganesh', 'Gunjal', 33, 'Data Science')\n",
      "(2, 'Rasika', 'Rajguru', 38, 'Govt')\n",
      "(3, 'Sushma', 'Patil', 31, 'HR')\n",
      "(4, 'Ganesh', 'Gunjal', 33, 'Data Science')\n",
      "(5, 'Rasika', 'Rajguru', 38, 'Govt')\n",
      "(6, 'Sushma', 'Patil', 31, 'HR')\n"
     ]
    }
   ],
   "source": [
    "# select all rows from the employees:\n",
    "cursor.execute('select * from employee')\n",
    "rows = cursor.fetchall()\n",
    "\n",
    "# Print the rows:\n",
    "for row in rows:\n",
    "    print(row)"
   ]
  },
  {
   "cell_type": "markdown",
   "id": "cdaaffda-7983-451f-9fbf-58e8b7d67ed8",
   "metadata": {},
   "source": [
    "#### Update the data in the table:"
   ]
  },
  {
   "cell_type": "code",
   "execution_count": 16,
   "id": "59cffc74-0832-4119-a661-7c3eb8a0a870",
   "metadata": {},
   "outputs": [],
   "source": [
    "cursor.execute('''\n",
    "    update employee \n",
    "    set name = 'Rashu'\n",
    "    where id=5\n",
    "''')\n",
    "connection.commit()"
   ]
  },
  {
   "cell_type": "code",
   "execution_count": 18,
   "id": "b1f00f48-a042-4e06-974e-0d5cdadc39f2",
   "metadata": {},
   "outputs": [
    {
     "name": "stdout",
     "output_type": "stream",
     "text": [
      "(1, 'Ganesh', 'Gunjal', 33, 'Data Science')\n",
      "(2, 'Rasika', 'Rajguru', 38, 'Govt')\n",
      "(3, 'Sushma', 'Patil', 31, 'HR')\n",
      "(4, 'Ganesh', 'Gunjal', 33, 'Data Science')\n",
      "(5, 'Rashu', 'Rajguru', 38, 'Govt')\n",
      "(6, 'Sushma', 'Patil', 31, 'HR')\n"
     ]
    }
   ],
   "source": [
    "cursor.execute('select * from employee')\n",
    "rows = cursor.fetchall()\n",
    "for row in rows:\n",
    "    print(row)"
   ]
  },
  {
   "cell_type": "markdown",
   "id": "46abf84d-abea-4800-b805-16ca51e70032",
   "metadata": {},
   "source": [
    "#### Delete the record:-"
   ]
  },
  {
   "cell_type": "code",
   "execution_count": 19,
   "id": "46c25024-0451-4591-b40b-fe6a3e53b01d",
   "metadata": {},
   "outputs": [],
   "source": [
    "cursor.execute('''\n",
    "    delete from employee\n",
    "    where id in (3,6)\n",
    "''')\n",
    "\n",
    "connection.commit()"
   ]
  },
  {
   "cell_type": "code",
   "execution_count": 20,
   "id": "3552fb2a-32e6-4c6d-bef3-11ae91bfa14c",
   "metadata": {},
   "outputs": [
    {
     "name": "stdout",
     "output_type": "stream",
     "text": [
      "(1, 'Ganesh', 'Gunjal', 33, 'Data Science')\n",
      "(2, 'Rasika', 'Rajguru', 38, 'Govt')\n",
      "(4, 'Ganesh', 'Gunjal', 33, 'Data Science')\n",
      "(5, 'Rashu', 'Rajguru', 38, 'Govt')\n"
     ]
    }
   ],
   "source": [
    "cursor.execute('select * from employee')\n",
    "rows = cursor.fetchall()\n",
    "for row in rows:\n",
    "    print(row)"
   ]
  },
  {
   "cell_type": "markdown",
   "id": "af21c41e-817d-4966-942e-c95efdc4856c",
   "metadata": {},
   "source": [
    "### Working with sales data:--"
   ]
  },
  {
   "cell_type": "markdown",
   "id": "331f7b46-20ba-4e7a-839b-a9dc9200ce1e",
   "metadata": {},
   "source": [
    "#### Connect to sqlite db"
   ]
  },
  {
   "cell_type": "code",
   "execution_count": 21,
   "id": "51211f07-8c59-4a7e-9de1-2fc1534e793d",
   "metadata": {},
   "outputs": [],
   "source": [
    "connection = sqlite3.connect('Sales.db')\n",
    "cursor = connection.cursor()"
   ]
  },
  {
   "cell_type": "markdown",
   "id": "e32e5455-a2f5-4ded-8bb3-b30fc7f6316c",
   "metadata": {},
   "source": [
    "#### Create a table"
   ]
  },
  {
   "cell_type": "code",
   "execution_count": 22,
   "id": "55694760-8a40-407c-a654-8dc068f8a443",
   "metadata": {},
   "outputs": [],
   "source": [
    "cursor.execute('''\n",
    "    CREATE TABLE IF NOT EXISTS tbl_sales (\n",
    "        id INTEGER PRIMARY KEY AUTOINCREMENT,\n",
    "        product_name TEXT NOT NULL,\n",
    "        category TEXT,\n",
    "        quantity INTEGER,\n",
    "        price REAL,\n",
    "        sale_date TEXT\n",
    "    )\n",
    "''')\n",
    "\n",
    "connection.commit()"
   ]
  },
  {
   "cell_type": "markdown",
   "id": "10c2736d-b60e-4b2c-90be-ba1642083958",
   "metadata": {},
   "source": [
    "#### Insert data:"
   ]
  },
  {
   "cell_type": "code",
   "execution_count": 24,
   "id": "0a2bc326-6f78-454d-977b-bae29487c345",
   "metadata": {},
   "outputs": [],
   "source": [
    "cursor.executemany('''\n",
    "    INSERT INTO tbl_sales (product_name, category, quantity, price, sale_date)\n",
    "    VALUES (?, ?, ?, ?, ?)\n",
    "''', [\n",
    "    (\"Laptop\", \"Electronics\", 2, 55000, \"2025-08-01\"),\n",
    "    (\"Phone\", \"Electronics\", 5, 20000, \"2025-08-02\"),\n",
    "    (\"Shoes\", \"Fashion\", 3, 2500, \"2025-08-02\"),\n",
    "    (\"Watch\", \"Fashion\", 1, 7000, \"2025-08-03\"),\n",
    "    (\"Book\", \"Stationery\", 10, 300, \"2025-08-03\")\n",
    "])\n",
    "connection.commit()"
   ]
  },
  {
   "cell_type": "markdown",
   "id": "4bf8139a-75f8-466c-961a-3739ab022014",
   "metadata": {},
   "source": [
    "#### Fetch Data"
   ]
  },
  {
   "cell_type": "code",
   "execution_count": 25,
   "id": "1b0bd550-8743-4aea-a07a-f50eab168491",
   "metadata": {},
   "outputs": [
    {
     "name": "stdout",
     "output_type": "stream",
     "text": [
      "(1, 'Laptop', 'Electronics', 2, 55000.0, '2025-08-01')\n",
      "(2, 'Phone', 'Electronics', 5, 20000.0, '2025-08-02')\n",
      "(3, 'Shoes', 'Fashion', 3, 2500.0, '2025-08-02')\n",
      "(4, 'Watch', 'Fashion', 1, 7000.0, '2025-08-03')\n",
      "(5, 'Book', 'Stationery', 10, 300.0, '2025-08-03')\n"
     ]
    }
   ],
   "source": [
    "cursor.execute('select * from tbl_sales')\n",
    "rows = cursor.fetchall()\n",
    "for row in rows:\n",
    "    print(row)"
   ]
  },
  {
   "cell_type": "markdown",
   "id": "5649ac2b-9fa3-4cc8-bf1a-ec67aced0d0d",
   "metadata": {},
   "source": [
    "### when we have to close the connection permanantly:-"
   ]
  },
  {
   "cell_type": "code",
   "execution_count": 26,
   "id": "e36da3c3-f6c1-442f-a028-035da7e4506d",
   "metadata": {},
   "outputs": [],
   "source": [
    "connection.close()"
   ]
  },
  {
   "cell_type": "code",
   "execution_count": 27,
   "id": "86d94a6c-a386-4efa-bd47-cdb24631e697",
   "metadata": {},
   "outputs": [
    {
     "ename": "ProgrammingError",
     "evalue": "Cannot operate on a closed database.",
     "output_type": "error",
     "traceback": [
      "\u001b[1;31m---------------------------------------------------------------------------\u001b[0m",
      "\u001b[1;31mProgrammingError\u001b[0m                          Traceback (most recent call last)",
      "Cell \u001b[1;32mIn[27], line 1\u001b[0m\n\u001b[1;32m----> 1\u001b[0m cursor\u001b[38;5;241m.\u001b[39mexecute(\u001b[38;5;124m'\u001b[39m\u001b[38;5;124mselect * from tbl_sales\u001b[39m\u001b[38;5;124m'\u001b[39m)\n\u001b[0;32m      2\u001b[0m rows \u001b[38;5;241m=\u001b[39m cursor\u001b[38;5;241m.\u001b[39mfetchall()\n\u001b[0;32m      3\u001b[0m \u001b[38;5;28;01mfor\u001b[39;00m row \u001b[38;5;129;01min\u001b[39;00m rows:\n",
      "\u001b[1;31mProgrammingError\u001b[0m: Cannot operate on a closed database."
     ]
    }
   ],
   "source": [
    "cursor.execute('select * from tbl_sales')\n",
    "rows = cursor.fetchall()\n",
    "for row in rows:\n",
    "    print(row)"
   ]
  },
  {
   "cell_type": "markdown",
   "id": "e945735d-0154-4d00-a834-f400927fd6a7",
   "metadata": {},
   "source": [
    "### error comes due to closed connection."
   ]
  },
  {
   "cell_type": "code",
   "execution_count": null,
   "id": "f3940513-7235-4bdc-b907-b1ab2a01888f",
   "metadata": {},
   "outputs": [],
   "source": []
  }
 ],
 "metadata": {
  "kernelspec": {
   "display_name": "Python 3 (ipykernel)",
   "language": "python",
   "name": "python3"
  },
  "language_info": {
   "codemirror_mode": {
    "name": "ipython",
    "version": 3
   },
   "file_extension": ".py",
   "mimetype": "text/x-python",
   "name": "python",
   "nbconvert_exporter": "python",
   "pygments_lexer": "ipython3",
   "version": "3.13.5"
  }
 },
 "nbformat": 4,
 "nbformat_minor": 5
}
