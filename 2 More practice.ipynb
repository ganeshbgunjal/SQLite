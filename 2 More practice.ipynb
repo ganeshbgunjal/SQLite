{
 "cells": [
  {
   "cell_type": "code",
   "execution_count": null,
   "id": "ca718631-2295-4757-8bab-e08537b8c47a",
   "metadata": {},
   "outputs": [],
   "source": []
  }
 ],
 "metadata": {
  "kernelspec": {
   "display_name": "",
   "name": ""
  },
  "language_info": {
   "name": ""
  }
 },
 "nbformat": 4,
 "nbformat_minor": 5
}
