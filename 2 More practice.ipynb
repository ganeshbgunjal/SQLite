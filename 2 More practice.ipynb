{
 "cells": [
  {
   "cell_type": "markdown",
   "id": "9568dc6e-e61c-4958-aee7-e1b2f8c79f6a",
   "metadata": {},
   "source": [
    "#### Create a database connection:-"
   ]
  },
  {
   "cell_type": "code",
   "execution_count": 1,
   "id": "f70183b5-1de2-4c13-a34a-568af5ceefa4",
   "metadata": {},
   "outputs": [],
   "source": [
    "import sqlite3"
   ]
  },
  {
   "cell_type": "code",
   "execution_count": 4,
   "id": "b900b4a7-fcaa-4419-b2ad-0cd64639d179",
   "metadata": {},
   "outputs": [],
   "source": [
    "connection = sqlite3.connect('college.db')\n",
    "cursor = connection.cursor()"
   ]
  },
  {
   "cell_type": "markdown",
   "id": "60eb59a5-9603-4845-b632-695a674557dd",
   "metadata": {},
   "source": [
    "#### Create a table:"
   ]
  },
  {
   "cell_type": "code",
   "execution_count": 5,
   "id": "6a5fbdfe-23dc-40e6-8899-970763cb041c",
   "metadata": {},
   "outputs": [],
   "source": [
    "cursor.execute('''\n",
    "    create table students (\n",
    "        id integer primary key, \n",
    "        student_name text not null,\n",
    "        class text not null,\n",
    "        grade text not null\n",
    "    )\n",
    "''')\n",
    "\n",
    "connection.commit()"
   ]
  },
  {
   "cell_type": "markdown",
   "id": "7306d2df-c95d-4502-af44-c7d410385bf1",
   "metadata": {},
   "source": [
    "#### Insert data into table:--"
   ]
  },
  {
   "cell_type": "code",
   "execution_count": 7,
   "id": "643b05cb-dab5-42fc-ab13-34c1378c8700",
   "metadata": {},
   "outputs": [],
   "source": [
    "cursor.execute('''\n",
    "    insert into students(student_name,class,grade)\n",
    "    values('Ganesh Gunjal','BE','A+')\n",
    "    ''')\n",
    "\n",
    "connection.commit()"
   ]
  },
  {
   "cell_type": "code",
   "execution_count": 8,
   "id": "b782d402-09ee-46b2-b1bf-22d329912009",
   "metadata": {},
   "outputs": [
    {
     "name": "stdout",
     "output_type": "stream",
     "text": [
      "(1, 'Ganesh Gunjal', 'BE', 'A+')\n"
     ]
    }
   ],
   "source": [
    "cursor.execute('select * from students')\n",
    "rows = cursor.fetchall()\n",
    "for row in rows:\n",
    "    print(row)"
   ]
  },
  {
   "cell_type": "code",
   "execution_count": 13,
   "id": "272cbdbe-511e-4de9-8da1-b37dc5d4cc08",
   "metadata": {},
   "outputs": [],
   "source": [
    "cursor.executemany('''\n",
    "    insert into students(student_name,class,grade)\n",
    "    values(?,?,?)''',[\n",
    "        ('Rasika Rajguru','M Com','A++'),\n",
    "        ('Sushma Patil','MBA','A++'),\n",
    "        ('Chandu Bagul','MSc','A++')\n",
    "    ])\n",
    "\n",
    "connection.commit()"
   ]
  },
  {
   "cell_type": "code",
   "execution_count": 14,
   "id": "51e8ebda-f76f-43bf-9f16-5b2d20fa8a58",
   "metadata": {},
   "outputs": [
    {
     "name": "stdout",
     "output_type": "stream",
     "text": [
      "(1, 'Ganesh Gunjal', 'BE', 'A+')\n",
      "(2, 'Rasika Rajguru', 'M Com', 'A++')\n",
      "(3, 'Sushma Patil', 'MBA', 'A++')\n",
      "(4, 'Chandu Bagul', 'MSc', 'A++')\n"
     ]
    }
   ],
   "source": [
    "cursor.execute('select * from students')\n",
    "rows = cursor.fetchall()\n",
    "for row in rows:\n",
    "    print(row)"
   ]
  },
  {
   "cell_type": "markdown",
   "id": "2e52915d-d32d-4208-9551-0ff3a451a258",
   "metadata": {},
   "source": [
    "#### Delete any record:--"
   ]
  },
  {
   "cell_type": "code",
   "execution_count": 15,
   "id": "e1d3d80b-0aa6-45e5-bde0-3ea764e2d033",
   "metadata": {},
   "outputs": [],
   "source": [
    "cursor.execute('''\n",
    "    delete from students\n",
    "    where id = 4\n",
    "''')\n",
    "connection.commit()"
   ]
  },
  {
   "cell_type": "code",
   "execution_count": 16,
   "id": "e8b69937-a2fc-4f39-ba16-cd76ef378aef",
   "metadata": {},
   "outputs": [
    {
     "name": "stdout",
     "output_type": "stream",
     "text": [
      "(1, 'Ganesh Gunjal', 'BE', 'A+')\n",
      "(2, 'Rasika Rajguru', 'M Com', 'A++')\n",
      "(3, 'Sushma Patil', 'MBA', 'A++')\n"
     ]
    }
   ],
   "source": [
    "cursor.execute('select * from students')\n",
    "rows = cursor.fetchall()\n",
    "for row in rows:\n",
    "    print(row)"
   ]
  },
  {
   "cell_type": "code",
   "execution_count": 17,
   "id": "cc48c393-f21a-4488-82f9-dbca0601dece",
   "metadata": {},
   "outputs": [],
   "source": [
    "cursor.execute('''\n",
    "    update students\n",
    "    set grade = 'Excellent'\n",
    "    where id=1\n",
    "''')\n",
    "\n",
    "connection.commit()"
   ]
  },
  {
   "cell_type": "code",
   "execution_count": 18,
   "id": "f51b8f5d-7b40-43c0-aa03-a3c1ac58303c",
   "metadata": {},
   "outputs": [
    {
     "name": "stdout",
     "output_type": "stream",
     "text": [
      "(1, 'Ganesh Gunjal', 'BE', 'Excellent')\n",
      "(2, 'Rasika Rajguru', 'M Com', 'A++')\n",
      "(3, 'Sushma Patil', 'MBA', 'A++')\n"
     ]
    }
   ],
   "source": [
    "cursor.execute('select * from students')\n",
    "rows = cursor.fetchall()\n",
    "for row in rows:\n",
    "    print(row)"
   ]
  },
  {
   "cell_type": "markdown",
   "id": "758bf524-1ba4-4e73-bb45-c1a4d4a0b294",
   "metadata": {},
   "source": [
    "### Finally closing all the connections after performing operation:-"
   ]
  },
  {
   "cell_type": "code",
   "execution_count": 19,
   "id": "65351f9a-8f6d-4560-af36-faa885739f73",
   "metadata": {},
   "outputs": [],
   "source": [
    "connection.close()"
   ]
  },
  {
   "cell_type": "markdown",
   "id": "d29ac100-554c-4fb2-991e-b877c9afacac",
   "metadata": {},
   "source": [
    "### We cant peform any operation after closing the connection."
   ]
  },
  {
   "cell_type": "code",
   "execution_count": null,
   "id": "50463da8-c3a1-48f8-a40c-b22c102a4094",
   "metadata": {},
   "outputs": [],
   "source": []
  }
 ],
 "metadata": {
  "kernelspec": {
   "display_name": "Python 3 (ipykernel)",
   "language": "python",
   "name": "python3"
  },
  "language_info": {
   "codemirror_mode": {
    "name": "ipython",
    "version": 3
   },
   "file_extension": ".py",
   "mimetype": "text/x-python",
   "name": "python",
   "nbconvert_exporter": "python",
   "pygments_lexer": "ipython3",
   "version": "3.13.5"
  }
 },
 "nbformat": 4,
 "nbformat_minor": 5
}
