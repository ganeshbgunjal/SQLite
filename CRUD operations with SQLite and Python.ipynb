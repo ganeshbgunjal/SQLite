{
 "cells": [
  {
   "cell_type": "markdown",
   "id": "80c0bd80-8383-44aa-9ec6-764004c9fa40",
   "metadata": {},
   "source": [
    "### SQL and SQLite:--"
   ]
  },
  {
   "cell_type": "markdown",
   "id": "65311e5c-8de5-4636-bb0e-7b27781992f4",
   "metadata": {},
   "source": [
    "**SQL** is standad query language for managing and manipulating relational databases. **SQLite** is a self contained, serverless, and zero configuration database engine that is widely used for embedded database systems."
   ]
  },
  {
   "cell_type": "markdown",
   "id": "2075001f-d2e9-4f1c-ac66-d97ad7fde5eb",
   "metadata": {},
   "source": [
    "An Embedded database system is a database that is built directly into an application (software or device). Unlike traditional databases that run separately on a server, an embedded database is tightly integrated with the application itself.  \n"
   ]
  },
  {
   "cell_type": "markdown",
   "id": "15696367-9e23-49d7-bbbd-0984388b1d43",
   "metadata": {},
   "source": [
    "**Characteristics:-**\n",
    "\n",
    "1. Small size – requires less memory and storage.\n",
    "\n",
    "2. High speed – because the application communicates directly with the database.\n",
    "\n",
    "3. Self-contained – no need for a separate database server.\n",
    "\n",
    "4. Easy to use – installing the application automatically includes the database."
   ]
  },
  {
   "cell_type": "markdown",
   "id": "875467f6-7b94-480d-9161-58dbfc0809f0",
   "metadata": {},
   "source": [
    "**An embedded database is a built-in database inside an application**"
   ]
  },
  {
   "cell_type": "code",
   "execution_count": 2,
   "id": "bd608557-2272-47a3-8eee-0b7a1ca976a2",
   "metadata": {},
   "outputs": [],
   "source": [
    "import sqlite3"
   ]
  },
  {
   "cell_type": "markdown",
   "id": "d9df4187-00b5-4e8a-b553-573ef5fe6ba6",
   "metadata": {},
   "source": [
    "#### Connect to SQLite db"
   ]
  },
  {
   "cell_type": "code",
   "execution_count": 3,
   "id": "7a33f0a2-8924-4c3a-9969-56369050c496",
   "metadata": {},
   "outputs": [],
   "source": [
    "connection = sqlite3.connect('example.db')"
   ]
  },
  {
   "cell_type": "code",
   "execution_count": 5,
   "id": "ba87bea0-79dc-4e27-b30d-d228fbb25614",
   "metadata": {},
   "outputs": [
    {
     "data": {
      "text/plain": [
       "<sqlite3.Connection at 0x274b912c6d0>"
      ]
     },
     "execution_count": 5,
     "metadata": {},
     "output_type": "execute_result"
    }
   ],
   "source": [
    "connection     #db is created."
   ]
  },
  {
   "cell_type": "code",
   "execution_count": null,
   "id": "dbaee7f6-e400-4a59-8b67-419aad4498de",
   "metadata": {},
   "outputs": [],
   "source": []
  }
 ],
 "metadata": {
  "kernelspec": {
   "display_name": "Python 3 (ipykernel)",
   "language": "python",
   "name": "python3"
  },
  "language_info": {
   "codemirror_mode": {
    "name": "ipython",
    "version": 3
   },
   "file_extension": ".py",
   "mimetype": "text/x-python",
   "name": "python",
   "nbconvert_exporter": "python",
   "pygments_lexer": "ipython3",
   "version": "3.13.5"
  }
 },
 "nbformat": 4,
 "nbformat_minor": 5
}
